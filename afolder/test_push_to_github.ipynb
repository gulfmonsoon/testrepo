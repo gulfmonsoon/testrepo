{
  "nbformat": 4,
  "nbformat_minor": 0,
  "metadata": {
    "colab": {
      "name": "test_push_to_github.ipynb",
      "provenance": [],
      "authorship_tag": "ABX9TyMLgZAc4vtKMpyT+GUQKWnj",
      "include_colab_link": true
    },
    "kernelspec": {
      "name": "python3",
      "display_name": "Python 3"
    }
  },
  "cells": [
    {
      "cell_type": "markdown",
      "metadata": {
        "id": "view-in-github",
        "colab_type": "text"
      },
      "source": [
        "<a href=\"https://colab.research.google.com/github/solfung/testrepo/blob/master/afolder/test_push_to_github.ipynb\" target=\"_parent\"><img src=\"https://colab.research.google.com/assets/colab-badge.svg\" alt=\"Open In Colab\"/></a>"
      ]
    },
    {
      "cell_type": "code",
      "metadata": {
        "id": "yGByGAOMmRAR",
        "colab_type": "code",
        "colab": {
          "base_uri": "https://localhost:8080/",
          "height": 34
        },
        "outputId": "7b8fae2f-4224-4dcc-bd22-9f6dcc8e49ef"
      },
      "source": [
        "a = 3\n",
        "b = 5\n",
        "print(f\"testing a push to github {a} and {b}\")"
      ],
      "execution_count": 1,
      "outputs": [
        {
          "output_type": "stream",
          "text": [
            "testing a push to github 3 and 5\n"
          ],
          "name": "stdout"
        }
      ]
    }
  ]
}